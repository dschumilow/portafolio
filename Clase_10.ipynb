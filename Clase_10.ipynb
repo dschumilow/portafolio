{
  "nbformat": 4,
  "nbformat_minor": 0,
  "metadata": {
    "colab": {
      "provenance": [],
      "authorship_tag": "ABX9TyMo2LjucUZmgBmHR1k+rOc2",
      "include_colab_link": true
    },
    "kernelspec": {
      "name": "python3",
      "display_name": "Python 3"
    },
    "language_info": {
      "name": "python"
    }
  },
  "cells": [
    {
      "cell_type": "markdown",
      "metadata": {
        "id": "view-in-github",
        "colab_type": "text"
      },
      "source": [
        "<a href=\"https://colab.research.google.com/github/dschumilow/portafolio/blob/main/Clase_10.ipynb\" target=\"_parent\"><img src=\"https://colab.research.google.com/assets/colab-badge.svg\" alt=\"Open In Colab\"/></a>"
      ]
    },
    {
      "cell_type": "code",
      "execution_count": null,
      "metadata": {
        "colab": {
          "base_uri": "https://localhost:8080/"
        },
        "id": "OaCLfM7tMLTd",
        "outputId": "4af246e0-5243-4edf-9a6c-d74c61063799"
      },
      "outputs": [
        {
          "output_type": "stream",
          "name": "stdout",
          "text": [
            "150\n"
          ]
        }
      ],
      "source": [
        "#POO Principios Abstraccion y Encapsulamiento\n",
        "#Ejemplo\n",
        "class CuentaBancaria:\n",
        "    def __init__(self, titular, saldo=0): #definicion objeto\n",
        "        self.titular = titular\n",
        "        self.__saldo = saldo #atributo privado\n",
        "\n",
        "    def depositar(self, monto): #metodo depositar\n",
        "      if monto > 0:\n",
        "        self._saldo += monto #incremento, si anteriormente el saldo era 0 y se incremento entonces nos da 0 +100\n",
        "\n",
        "    def consultar_saldo(self): #metodo consultar saldo\n",
        "      return self.__saldo\n",
        "\n",
        "cuenta = CuentaBancaria(\"Juan\", 100)\n",
        "cuenta.depositar(50)\n",
        "print(cuenta.consultar_saldo()) #imprime 150"
      ]
    },
    {
      "cell_type": "code",
      "source": [
        "#Ejemplo de clase con constructor e instanciacion de objetos\n",
        "class Persona:\n",
        "    def __init__(self, nombre, edad): #constructor\n",
        "        self.nombre = nombre\n",
        "        self.edad = edad\n",
        "\n",
        "    def saludar(self): #metodo\n",
        "        print(f\"Hola, mi nombre es {self.nombre} y tengo {self.edad} años.\")\n",
        "\n",
        "#instanciacion de objetos\n",
        "persona1 = Persona(\"Juan\", 25)\n",
        "persona2 = Persona(\"Maria\", 30)\n",
        "\n",
        "persona1.saludar()\n",
        "persona2.saludar()\n",
        "\n"
      ],
      "metadata": {
        "id": "PFMyQGGhR5Zv"
      },
      "execution_count": null,
      "outputs": []
    },
    {
      "cell_type": "code",
      "source": [
        "texto = 'hola mundo'\n",
        "print(texto.upper())\n",
        "print(texto.lower())\n",
        "print(texto.find(\"Mundo\"))\n",
        "print(replace('mundo', 'python'))\n",
        "palabras = texto.split()"
      ],
      "metadata": {
        "id": "hQdtSmC7Ss5Q"
      },
      "execution_count": null,
      "outputs": []
    },
    {
      "cell_type": "code",
      "source": [
        "#EVALUACION PRACTICA MODULO 2"
      ],
      "metadata": {
        "id": "kQkaMKjKdGpw"
      },
      "execution_count": null,
      "outputs": []
    },
    {
      "cell_type": "code",
      "source": [
        "#1 Definir variables basicas y tipos de datos\n",
        "libros=[{'titulo':'Finanzas','autor':'Pedro','precio':50.00,'stock':1},\n",
        " {'titulo':'Dune','autor':'Frank Herbert','precio':11.99,'stock':50},\n",
        "        {'titulo':'La casa de los espiritus','autor':'Isabel Allende','precio':20.00,'stock':30},\n",
        "        {'titulo':'La Biblia','autor':'Varios','precio':200.00,'stock':25},\n",
        "        {'titulo':'100 años de soledad','autor':'Gabriel Garcia Marquez','precio':25.00,'stock':10}]\n",
        "print(libros)\n",
        "\n"
      ],
      "metadata": {
        "id": "JObGbs_OdJvS"
      },
      "execution_count": null,
      "outputs": []
    },
    {
      "cell_type": "code",
      "source": [
        "#2 Control de flujo\n",
        "def mostrar_libros_disponibles():\n",
        "    for libro in libros: #libro la variable que almacena el ciclo for\n",
        "        if libro.get('stock')>1:\n",
        "          print(libro)\n",
        "\n",
        "mostrar_libros_disponibles()"
      ],
      "metadata": {
        "id": "t345vfd9fdFm"
      },
      "execution_count": null,
      "outputs": []
    },
    {
      "cell_type": "code",
      "source": [
        "#2 Control de flujo\n",
        "def mostrar_libros_disponibles():\n",
        "    for libro in libros: #libro la variable que almacena el ciclo for\n",
        "        if libro['stock']>1:\n",
        "          print(libro)\n",
        "\n",
        "mostrar_libros_disponibles()"
      ],
      "metadata": {
        "colab": {
          "base_uri": "https://localhost:8080/"
        },
        "id": "ZUS3UGwekNaO",
        "outputId": "82c016dd-262b-4eec-d0ad-5b31af65098a"
      },
      "execution_count": null,
      "outputs": [
        {
          "output_type": "stream",
          "name": "stdout",
          "text": [
            "{'titulo': 'Dune', 'autor': 'Frank Herbert', 'precio': 11.99, 'stock': 50}\n",
            "{'titulo': 'La casa de los espiritus', 'autor': 'Isabel Allende', 'precio': 20.0, 'stock': 30}\n",
            "{'titulo': 'La Biblia', 'autor': 'Varios', 'precio': 200.0, 'stock': 25}\n",
            "{'titulo': '100 años de soledad', 'autor': 'Gabriel Garcia Marquez', 'precio': 25.0, 'stock': 10}\n"
          ]
        }
      ]
    },
    {
      "cell_type": "code",
      "source": [
        "#3 Condiciones y operadores\n",
        "minimo=float(input('Ingrese el precio minimo: '))\n",
        "maximo=float(input('Ingrese el precio maximo: '))\n",
        "\n",
        "for libro in libros: #for que va a recorrer libro en libros\n",
        "    if libro.get('precio')>=minimo and libro.get('precio')<=maximo: #finalizar con dos puntos para la accion final\n",
        "        print(libro)"
      ],
      "metadata": {
        "id": "F6fLqhjzg25G"
      },
      "execution_count": null,
      "outputs": []
    },
    {
      "cell_type": "code",
      "source": [
        "#MODULO 3 NUMPY\n",
        "import numpy as np\n",
        "\n",
        "numeros=[1,2,3,4,5,6,7,8,9,10]\n",
        "print(numeros)\n",
        "\n",
        "\n",
        "lista_python=list(range(100))\n",
        "print(lista_python[0])\n",
        "\n",
        "#arreglo en python\n",
        "arreglo_python=np.arange(1,100)\n",
        "print(arreglo_python)\n",
        "\n",
        "duplicados=[numero*2 for numero in numeros]\n",
        "print(duplicados)\n",
        "print(f 'el proceso tuvo una duracion de:{time.time()-inicio} segundos ')"
      ],
      "metadata": {
        "id": "68Qpw6B3qWOB"
      },
      "execution_count": null,
      "outputs": []
    },
    {
      "cell_type": "code",
      "source": [
        "#MODULO 3 NUMPY\n",
        "import numpy as np\n",
        "\n",
        "numeros=[1,2,3,4,5,6,7,8,9,10]\n",
        "print(numeros)\n",
        "\n",
        "inicio = time.time()\n",
        "lista_python=list(range(1000000))\n",
        "print(lista_python[0])\n",
        "print(f'el proceso tuvo una duracion de:{time.time()-inicio} segundos ')\n",
        "\n",
        "#arreglo en python\n",
        "inicio2=time.time()\n",
        "arreglo_python=np.arange(1,1000000)\n",
        "print(arreglo_python[5])\n",
        "print(f'el proceso tuvo una duracion de:{time.time()-inicio2} segundos ')\n",
        "\n",
        "duplicados=[numero*2 for numero in numeros]\n",
        "print(duplicados)\n"
      ],
      "metadata": {
        "id": "XSGh8vg9tNS-"
      },
      "execution_count": null,
      "outputs": []
    },
    {
      "cell_type": "code",
      "source": [
        "#Arreglo 2\n",
        "import numpy as np\n",
        "\n",
        "a=np.array([1,2,3]) #es un vector\n",
        "b=np.array([4,5,6]) #es un vector\n",
        "c=a+b\n",
        "print(c)\n",
        "\n",
        "suma2=np.sum([a,b])\n",
        "print(suma2)\n",
        "\n",
        "producto=a*b\n",
        "print(producto)\n",
        "\n",
        "punto=np.dot(a,b)\n",
        "print(punto)\n",
        "\n",
        "#creacion de un vector\n",
        "\n",
        "vector=np.array([1,2,3,4,5])\n",
        "print(f'Dimensiones: {vector.shape}')\n",
        "print(f'Tipo de datos: {vector.dtype}')\n",
        "\n",
        "#creacion de una matriz\n",
        "matriz=np.array([[1,2,3],[4,5,6],[7,8,9]])\n",
        "print(matriz)\n",
        "print(f'Dimensiones: {matriz.shape}')\n",
        "\n",
        "#creacion de tensor 3D (2X2X2)\n",
        "tensor=np.array([[[1,2],[3,4]],[[5,6],[7,8]]]) #matriz con otr matriz\n",
        "print(tensor)\n",
        "print(f'Dimensiones: {tensor.shape}')\n"
      ],
      "metadata": {
        "id": "crjUuYi4v4qK"
      },
      "execution_count": null,
      "outputs": []
    },
    {
      "cell_type": "code",
      "source": [
        "#creacion de matricez\n",
        "\n",
        "import numpy as np\n",
        "\n",
        "arreglo=np.arange(0,10,2) #tira una lista que incluye el inicio pero no el fin\n",
        "#arreglo=np.arange(inicio,fin,paso)\n",
        "print(arreglo)\n",
        "\n",
        "matriz_ceros=np.zeros((2,3))\n",
        "print(matriz_ceros)\n",
        "\n",
        "matriz_unos=np.ones((2,3))\n",
        "print(matriz_unos)\n",
        "\n",
        "matriz_random=np.random.randint(1,100,(3,3))\n",
        "print(matriz_random)\n"
      ],
      "metadata": {
        "id": "vkmWKik50X3a",
        "colab": {
          "base_uri": "https://localhost:8080/"
        },
        "outputId": "62a78299-4830-4c50-ea04-41431dc3531a"
      },
      "execution_count": null,
      "outputs": [
        {
          "output_type": "stream",
          "name": "stdout",
          "text": [
            "[0 2 4 6 8]\n",
            "[[0. 0. 0.]\n",
            " [0. 0. 0.]]\n",
            "[[1. 1. 1.]\n",
            " [1. 1. 1.]]\n",
            "[[76 41 76]\n",
            " [ 3 82 16]\n",
            " [71 83 18]]\n"
          ]
        }
      ]
    },
    {
      "cell_type": "code",
      "source": [
        "arr=np.array([10,20,30,40,50,60,70])\n",
        "\n",
        "#indexacion basica\n",
        "print('Elemento en pos 2: ',arr[2])\n",
        "\n",
        "#Slicing[start:stop:step]\n",
        "print('Elementos del 1 al 4: ',arr[1:5])\n",
        "print('Elementos pares: ',arr[::2]) #muestra los elementos en las posiciones pares\n",
        "\n",
        "#Indexacion booleana\n",
        "condicion=arr>35\n",
        "print('Condicion arr:35: ',condicion)\n",
        "\n",
        "\n",
        "#Valores que cumplen con la condicion\n",
        "condicion=arr>35\n",
        "print('Elementos mayores a 35: ',arr[condicion])\n",
        "\n",
        "#Crear una matriz de 3x3 con los numeros del 1 al 9\n",
        "mat=np.array([[1,2,3],[4,5,6],[7,8,9]])\n",
        "print(mat)\n",
        "\n",
        "#Acceder a un elemento de la matriz\n",
        "print(mat[1,2])\n",
        "print(mat[0])\n",
        "print(mat[0,:])\n",
        "print(mat[:,2])\n",
        "print(mat[:,-1])\n",
        "\n"
      ],
      "metadata": {
        "id": "52r4Mf1D6HLm"
      },
      "execution_count": null,
      "outputs": []
    }
  ]
}